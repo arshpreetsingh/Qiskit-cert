{
 "cells": [
  {
   "cell_type": "code",
   "execution_count": 1,
   "id": "c5055022",
   "metadata": {},
   "outputs": [
    {
     "name": "stdout",
     "output_type": "stream",
     "text": [
      "ibmq_qasm_simulator\n"
     ]
    }
   ],
   "source": [
    "import numpy as np\n",
    "# Importing standard Qiskit libraries\n",
    "from qiskit import *\n",
    "from qiskit.tools.jupyter import *\n",
    "from qiskit.visualization import *\n",
    "from qiskit.tools.monitor import job_monitor\n",
    "# Loading your IBM Quantum account(s)\n",
    "key = \"049f2660f3d1fcdf497faba04da5b7f134f24dc04fae58a2dc03483ccf03a0a835bbb9f78ca73ddbbbeefdf4a485fe9315582aa8864282e7aff5b58b10df655f\"\n",
    "IBMQ.enable_account(key)\n",
    "provider = IBMQ.get_provider(hub='ibm-q')\n",
    "backend = provider.get_backend('ibmq_qasm_simulator')\n",
    "print(backend)"
   ]
  },
  {
   "cell_type": "code",
   "execution_count": 2,
   "id": "a1304d6f",
   "metadata": {},
   "outputs": [
    {
     "data": {
      "text/plain": [
       "'\\n\\n## Bell States\\nThere are 4 Bell State in Quantum Physics. \\n1. Phi+\\n2. Phi-\\n3. Si+\\n4. Si-\\nWhen we have two qubits in Super-Position then we get following states. \\n1. \\n'"
      ]
     },
     "execution_count": 2,
     "metadata": {},
     "output_type": "execute_result"
    }
   ],
   "source": [
    "'''\n",
    "\n",
    "## Bell States\n",
    "There are 4 Bell State in Quantum Physics. \n",
    "1. Phi+\n",
    "2. Phi-\n",
    "3. Si+\n",
    "4. Si-\n",
    "When we have two qubits in Super-Position then we get following states. \n",
    "1. \n",
    "'''"
   ]
  },
  {
   "cell_type": "code",
   "execution_count": 3,
   "id": "4f5dae80",
   "metadata": {},
   "outputs": [
    {
     "name": "stdout",
     "output_type": "stream",
     "text": [
      "        ┌───┐      ░ ┌─┐   \n",
      "   q_0: ┤ H ├──■───░─┤M├───\n",
      "        └───┘┌─┴─┐ ░ └╥┘┌─┐\n",
      "   q_1: ─────┤ X ├─░──╫─┤M├\n",
      "             └───┘ ░  ║ └╥┘\n",
      "meas: 2/══════════════╩══╩═\n",
      "                      0  1 \n"
     ]
    }
   ],
   "source": [
    "bell_0 = QuantumCircuit(2)\n",
    "bell_0.h(0)\n",
    "bell_0.cx(0,1)\n",
    "bell_0.measure_all()\n",
    "print(bell_0)"
   ]
  },
  {
   "cell_type": "code",
   "execution_count": 4,
   "id": "34ba8803",
   "metadata": {},
   "outputs": [
    {
     "name": "stdout",
     "output_type": "stream",
     "text": [
      "Job Status: job has successfully run\n",
      "counts {'11': 1}\n",
      "Completed!\n"
     ]
    }
   ],
   "source": [
    "# Execute things on Quantum-Computer!\n",
    "job = execute(bell_0, backend=backend, shots=1)\n",
    "job_monitor(job)\n",
    "#print(\"Job_Results-->>\",job.result())\n",
    "counts = job.result().get_counts()\n",
    "print(\"counts\", counts)\n",
    "print(\"Completed!\")"
   ]
  },
  {
   "cell_type": "code",
   "execution_count": 19,
   "id": "5db650ad",
   "metadata": {},
   "outputs": [
    {
     "name": "stdout",
     "output_type": "stream",
     "text": [
      "statevector_simulator\n",
      "Job Status: job has successfully run\n",
      "Statevector([1.+0.j, 0.+0.j, 0.+0.j, 0.+0.j],\n",
      "            dims=(2, 2))\n"
     ]
    }
   ],
   "source": [
    "backend = Aer.get_backend('statevector_simulator')\n",
    "print(backend)\n",
    "job = execute(bell_0, backend=backend, shots=1)\n",
    "job_monitor(job)\n",
    "#print(\"Job_Results-->>\",job.result())\n",
    "state_vector = job.result().get_statevector(bell_0)\n",
    "# print(\"counts\", state_vector)\n",
    "# print(\"Completed!\")\n",
    "print(state_vector)\n"
   ]
  },
  {
   "cell_type": "code",
   "execution_count": null,
   "id": "5093ed76",
   "metadata": {},
   "outputs": [],
   "source": []
  }
 ],
 "metadata": {
  "kernelspec": {
   "display_name": "Python 3",
   "language": "python",
   "name": "python3"
  },
  "language_info": {
   "codemirror_mode": {
    "name": "ipython",
    "version": 3
   },
   "file_extension": ".py",
   "mimetype": "text/x-python",
   "name": "python",
   "nbconvert_exporter": "python",
   "pygments_lexer": "ipython3",
   "version": "3.8.8"
  }
 },
 "nbformat": 4,
 "nbformat_minor": 5
}
