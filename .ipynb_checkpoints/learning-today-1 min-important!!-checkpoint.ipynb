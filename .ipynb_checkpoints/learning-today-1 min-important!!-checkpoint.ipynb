{
 "cells": [
  {
   "cell_type": "code",
   "execution_count": 60,
   "id": "7040d3b5",
   "metadata": {},
   "outputs": [
    {
     "ename": "VisualizationError",
     "evalue": "'Invalid output type png selected. The only valid choices are text, latex, latex_source, and mpl'",
     "output_type": "error",
     "traceback": [
      "\u001b[0;31m---------------------------------------------------------------------------\u001b[0m",
      "\u001b[0;31mVisualizationError\u001b[0m                        Traceback (most recent call last)",
      "\u001b[0;32m<ipython-input-60-8685c852ce12>\u001b[0m in \u001b[0;36m<module>\u001b[0;34m\u001b[0m\n\u001b[1;32m      9\u001b[0m \u001b[0mqc\u001b[0m\u001b[0;34m.\u001b[0m\u001b[0mh\u001b[0m\u001b[0;34m(\u001b[0m\u001b[0;36m0\u001b[0m\u001b[0;34m)\u001b[0m\u001b[0;34m\u001b[0m\u001b[0;34m\u001b[0m\u001b[0m\n\u001b[1;32m     10\u001b[0m \u001b[0mqc\u001b[0m\u001b[0;34m.\u001b[0m\u001b[0mcx\u001b[0m\u001b[0;34m(\u001b[0m\u001b[0;34m[\u001b[0m\u001b[0;36m0\u001b[0m\u001b[0;34m,\u001b[0m\u001b[0;36m0\u001b[0m\u001b[0;34m]\u001b[0m\u001b[0;34m,\u001b[0m\u001b[0;34m[\u001b[0m\u001b[0;36m1\u001b[0m\u001b[0;34m,\u001b[0m\u001b[0;36m2\u001b[0m\u001b[0;34m]\u001b[0m\u001b[0;34m)\u001b[0m\u001b[0;34m\u001b[0m\u001b[0;34m\u001b[0m\u001b[0m\n\u001b[0;32m---> 11\u001b[0;31m \u001b[0mqc\u001b[0m\u001b[0;34m.\u001b[0m\u001b[0mdraw\u001b[0m\u001b[0;34m(\u001b[0m\u001b[0moutput\u001b[0m\u001b[0;34m=\u001b[0m\u001b[0;34m'png'\u001b[0m\u001b[0;34m)\u001b[0m\u001b[0;34m\u001b[0m\u001b[0;34m\u001b[0m\u001b[0m\n\u001b[0m\u001b[1;32m     12\u001b[0m \u001b[0;31m# backend_sv = BasicAer.get_backend('statevector_simulator')\u001b[0m\u001b[0;34m\u001b[0m\u001b[0;34m\u001b[0m\u001b[0;34m\u001b[0m\u001b[0m\n\u001b[1;32m     13\u001b[0m \u001b[0;31m# job = execute(qc, backend_sv,shots=1024)\u001b[0m\u001b[0;34m\u001b[0m\u001b[0;34m\u001b[0m\u001b[0;34m\u001b[0m\u001b[0m\n",
      "\u001b[0;32m~/anaconda3/lib/python3.8/site-packages/qiskit/circuit/quantumcircuit.py\u001b[0m in \u001b[0;36mdraw\u001b[0;34m(self, output, scale, filename, style, interactive, plot_barriers, reverse_bits, justify, vertical_compression, idle_wires, with_layout, fold, ax, initial_state, cregbundle)\u001b[0m\n\u001b[1;32m   1863\u001b[0m         \u001b[0;32mfrom\u001b[0m \u001b[0mqiskit\u001b[0m\u001b[0;34m.\u001b[0m\u001b[0mvisualization\u001b[0m \u001b[0;32mimport\u001b[0m \u001b[0mcircuit_drawer\u001b[0m\u001b[0;34m\u001b[0m\u001b[0;34m\u001b[0m\u001b[0m\n\u001b[1;32m   1864\u001b[0m \u001b[0;34m\u001b[0m\u001b[0m\n\u001b[0;32m-> 1865\u001b[0;31m         return circuit_drawer(\n\u001b[0m\u001b[1;32m   1866\u001b[0m             \u001b[0mself\u001b[0m\u001b[0;34m,\u001b[0m\u001b[0;34m\u001b[0m\u001b[0;34m\u001b[0m\u001b[0m\n\u001b[1;32m   1867\u001b[0m             \u001b[0mscale\u001b[0m\u001b[0;34m=\u001b[0m\u001b[0mscale\u001b[0m\u001b[0;34m,\u001b[0m\u001b[0;34m\u001b[0m\u001b[0;34m\u001b[0m\u001b[0m\n",
      "\u001b[0;32m~/anaconda3/lib/python3.8/site-packages/qiskit/visualization/circuit_visualization.py\u001b[0m in \u001b[0;36mcircuit_drawer\u001b[0;34m(circuit, scale, filename, style, output, interactive, plot_barriers, reverse_bits, justify, vertical_compression, idle_wires, with_layout, fold, ax, initial_state, cregbundle)\u001b[0m\n\u001b[1;32m    298\u001b[0m         )\n\u001b[1;32m    299\u001b[0m     \u001b[0;32melse\u001b[0m\u001b[0;34m:\u001b[0m\u001b[0;34m\u001b[0m\u001b[0;34m\u001b[0m\u001b[0m\n\u001b[0;32m--> 300\u001b[0;31m         raise VisualizationError(\n\u001b[0m\u001b[1;32m    301\u001b[0m             \u001b[0;34m\"Invalid output type %s selected. The only valid choices \"\u001b[0m\u001b[0;34m\u001b[0m\u001b[0;34m\u001b[0m\u001b[0m\n\u001b[1;32m    302\u001b[0m             \u001b[0;34m\"are text, latex, latex_source, and mpl\"\u001b[0m \u001b[0;34m%\u001b[0m \u001b[0moutput\u001b[0m\u001b[0;34m\u001b[0m\u001b[0;34m\u001b[0m\u001b[0m\n",
      "\u001b[0;31mVisualizationError\u001b[0m: 'Invalid output type png selected. The only valid choices are text, latex, latex_source, and mpl'"
     ]
    }
   ],
   "source": [
    "import qiskit\n",
    "from qiskit.tools.monitor import job_monitor\n",
    "from qiskit import *\n",
    "import math\n",
    "from qiskit.circuit.library import XGate\n",
    "from qiskit.quantum_info import state_fidelity, average_gate_fidelity, process_fidelity, Operator\n",
    "import numpy as np\n",
    "qc= QuantumCircuit(3)\n",
    "qc.h(0)\n",
    "qc.cx([0,0],[1,2])\n",
    "qc.draw(output='png')\n",
    "# backend_sv = BasicAer.get_backend('statevector_simulator') \n",
    "# job = execute(qc, backend_sv,shots=1024)\n",
    "# result = job.result()\n",
    "# sv_ev = result.get_statevector(qc)\n",
    "# print(sv_ev)"
   ]
  },
  {
   "cell_type": "code",
   "execution_count": 22,
   "id": "e67ba017",
   "metadata": {},
   "outputs": [
    {
     "name": "stdout",
     "output_type": "stream",
     "text": [
      "1\n"
     ]
    }
   ],
   "source": [
    "from qiskit import *\n",
    "qc = QuantumCircuit(3)\n",
    "qc.h(0)\n",
    "qc.x(1)\n",
    "qc.h(2)\n",
    "print(qc.depth())\n",
    "# qc.draw()\n",
    "# qc.measure_all()\n",
    "# qc.quasm_string\n",
    "# backend = Aer.get_backend(\"qasm_simulator\")\n",
    "# job = execute(qc, backend=backend, shots=1)\n",
    "# job_monitor(job)\n",
    "# #print(\"Job_Results-->>\",job.result())\n",
    "# counts = job.result().get_counts()\n",
    "# print(counts)"
   ]
  },
  {
   "cell_type": "code",
   "execution_count": 12,
   "id": "60bf1fed",
   "metadata": {},
   "outputs": [
    {
     "name": "stdout",
     "output_type": "stream",
     "text": [
      "Job Status: job has successfully run\n",
      "counts {'00': 1}\n",
      "state-Vector Statevector([1.+0.j, 0.+0.j, 0.+0.j, 0.+0.j],\n",
      "            dims=(2, 2))\n",
      "Completed!\n"
     ]
    }
   ],
   "source": [
    "\n",
    "backend = Aer.get_backend(\"statevector_simulator\")\n",
    "job = execute(qc, backend=backend, shots=1)\n",
    "job_monitor(job)\n",
    "#print(\"Job_Results-->>\",job.result())\n",
    "counts = job.result().get_counts()\n",
    "sv = job.result().get_statevector()\n",
    "print(\"counts\", counts)\n",
    "print(\"state-Vector\", sv)\n",
    "print(\"Completed!\")"
   ]
  },
  {
   "cell_type": "code",
   "execution_count": 13,
   "id": "d96d109a",
   "metadata": {},
   "outputs": [
    {
     "name": "stdout",
     "output_type": "stream",
     "text": [
      "Job Status: job has successfully run\n",
      "counts {'01': 1}\n",
      "Completed!\n"
     ]
    }
   ],
   "source": [
    "backend = Aer.get_backend(\"qasm_simulator\")\n",
    "job = execute(qc, backend=backend, shots=1)\n",
    "job_monitor(job)\n",
    "#print(\"Job_Results-->>\",job.result())\n",
    "counts = job.result().get_counts()\n",
    "#sv = job.result().get_statevector()\n",
    "print(\"counts\", counts)\n",
    "#print(\"state-Vector\", sv)\n",
    "print(\"Completed!\")"
   ]
  },
  {
   "cell_type": "code",
   "execution_count": null,
   "id": "e0a2d2fe",
   "metadata": {},
   "outputs": [],
   "source": [
    "State-vector_Simulator: https://www.youtube.com/watch?v=GuppGy50dQ4\n",
    "Unitary-Simultor: https://www.youtube.com/watch?v=5uT5fUq2HVM\n",
    "\n",
    "# Need to inspect following and How it does come? \n",
    "q = QuantumRegister(1,'q')\n",
    "qc = QuantumCircuit(q)\n",
    "qc.y(0)\n",
    "backend_unitary = BasicAer.get_backend('unitary_simulator') \n",
    "result = execute(qc,backend_unitary).result().get_unitary(decimals=3)\n",
    "print(result)\n",
    "Question 53, 54, Bell state wale aa\n",
    "Quesiton57, plot_Bloch_vector() \n",
    "Review Quesitons from here: https://www.udemy.com/course/practice-exams-ibm-quantum-developer-certification-exam/learn/quiz/5303558/results?expanded=645817082#overview\n"
   ]
  }
 ],
 "metadata": {
  "kernelspec": {
   "display_name": "Python 3",
   "language": "python",
   "name": "python3"
  },
  "language_info": {
   "codemirror_mode": {
    "name": "ipython",
    "version": 3
   },
   "file_extension": ".py",
   "mimetype": "text/x-python",
   "name": "python",
   "nbconvert_exporter": "python",
   "pygments_lexer": "ipython3",
   "version": "3.8.8"
  }
 },
 "nbformat": 4,
 "nbformat_minor": 5
}
